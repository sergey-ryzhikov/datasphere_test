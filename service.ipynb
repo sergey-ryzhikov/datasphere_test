{
 "cells": [
  {
   "cell_type": "code",
   "execution_count": 1,
   "metadata": {
    "cellId": "d7s1uls7zdcbapiyww20bj"
   },
   "outputs": [],
   "source": [
    "#!c1.4\n",
    "import numpy as np\n",
    "import matplotlib.pyplot as plt"
   ]
  },
  {
   "cell_type": "code",
   "execution_count": 3,
   "metadata": {
    "cellId": "f6kj00kq9molpuu0w5jwd"
   },
   "outputs": [],
   "source": [
    "model = Model()"
   ]
  },
  {
   "cell_type": "code",
   "execution_count": 2,
   "metadata": {
    "cellId": "bjklx9m8ww8azljitrjcan"
   },
   "outputs": [],
   "source": [
    "class Model():\n",
    "    def predict(self, items):\n",
    "        return [{\"category\":\"категория\", \"sentiment\": \"+\"}] * len(items)\n",
    "    def noop(self):\n",
    "        pass"
   ]
  },
  {
   "cell_type": "code",
   "execution_count": 4,
   "metadata": {
    "cellId": "db5iqbtrdzar9xjtx6pipl"
   },
   "outputs": [],
   "source": [
    "# должны быть в отдельной ячейке, чтобы не быть перезаписанными при обращении к ячейке\n",
    "input_values = ['a','b', 'c']"
   ]
  },
  {
   "cell_type": "code",
   "execution_count": 12,
   "metadata": {
    "cellId": "mr5m4apieenmwz0xl4bbl"
   },
   "outputs": [],
   "source": [
    "#!c1.4\n",
    "# ячейка, которая выполняется как сервис\n",
    "# Чтобы создать контрольную точку, нажмите Ctrl-K\n",
    "#\n",
    "\n",
    "predictions = model.predict(input_values)\n",
    "#labels = predictions.argmax(axis=1).tolist()\n",
    "labels = predictions  # DELME"
   ]
  },
  {
   "cell_type": "code",
   "execution_count": 9,
   "metadata": {
    "cellId": "lyxjdtj6fljtaq7t4nj2i"
   },
   "outputs": [
    {
     "data": {
      "text/plain": [
       "[{'category': 'категория', 'sentiment': '+'},\n",
       " {'category': 'категория', 'sentiment': '+'},\n",
       " {'category': 'категория', 'sentiment': '+'}]"
      ]
     },
     "execution_count": 9,
     "metadata": {},
     "output_type": "execute_result"
    }
   ],
   "source": [
    "predictions"
   ]
  },
  {
   "cell_type": "markdown",
   "metadata": {
    "cellId": "8hldnepspgecbi44e6x8tl"
   },
   "source": [
    "Запрашиваем ответ у ячейки-сервиса:"
   ]
  },
  {
   "cell_type": "code",
   "execution_count": 10,
   "metadata": {
    "cellId": "jvzcbu898hc53v55fawe"
   },
   "outputs": [
    {
     "name": "stdout",
     "output_type": "stream",
     "text": [
      "501 Not Implemented\n",
      "{\n",
      " \"code\": 12,\n",
      " \"details\": [\n",
      "  {\n",
      "   \"@type\": \"type.googleapis.com/google.rpc.RequestInfo\",\n",
      "   \"requestId\": \"25e6b5d3-6502-463c-966c-d080e8f304cd\"\n",
      "  }\n",
      " ]\n",
      "}\n",
      "\n"
     ]
    }
   ],
   "source": [
    "#!c1.4\n",
    "import json\n",
    "import os\n",
    "import requests\n",
    "\n",
    "NODE_ID = 'bt1vv8o57lp469vqupgg'\n",
    "FOLDER_ID = 'b1g03cf0d9b8uiifgvgo'\n",
    "API_KEY = os.environ['REQUESTER_API_KEY']\n",
    "\n",
    "resp = requests.post(\n",
    "    f\"https://datasphere.api.cloud.yandex.net/datasphere/v1/nodes/{NODE_ID}:execute\",\n",
    "    data = json.dumps({\n",
    "        'node_id': NODE_ID,\n",
    "        'folder_id': FOLDER_ID,\n",
    "        'input': {\n",
    "            'input_values': [ 'a', 'b', 'c']\n",
    "        }\n",
    "    }),\n",
    "    headers = { \n",
    "         'Authorization': f\"Api-Key {API_KEY}\",\n",
    "    }\n",
    ")\n",
    "\n",
    "# check response\n",
    "print(resp.status_code, resp.reason)\n",
    "print(resp.text)"
   ]
  },
  {
   "cell_type": "code",
   "execution_count": 27,
   "metadata": {
    "cellId": "jnur7i4dl7sqsfhy8hi2df"
   },
   "outputs": [],
   "source": [
    "!ssh-keygen -f ~/.ssh/id_rsa -q -N \"\""
   ]
  },
  {
   "cell_type": "code",
   "execution_count": 29,
   "metadata": {
    "cellId": "ljb77wvzubsmtoo7tq087"
   },
   "outputs": [
    {
     "name": "stdout",
     "output_type": "stream",
     "text": [
      "ssh-rsa AAAAB3NzaC1yc2EAAAADAQABAAABAQDe78GEdlHZLqhz5lAumuLmP19eQBKxWW4amzO8C1Oo+Q9am4s1A9LFOmYgK3S1orCzHqIDARs5EW2qhNwB7tFZNNgUI+hlommv7w35OlWy2PQ+Dk/yy796U35QQZg3AAbV148tDYSlFvl9j/em0nTKRzNovCxeotS4gewT+qB2ySAPX6MvdhZZZrOHcZ7mUEqlh8evUZw2hrMhMe+Uq6sqJXEcaeQRt1vIfLQNpVmofYyhKMI+PUUXhS1GYG6YExzhLbkGPOzNMoBYPXJhHueHEX6++PWzIo9/ySVUvo98Ycav16QQ9sehNOWzPM7w9y1XPKRu3myEPE+Jbnm+upvf jupyter@s-c321aef8-a767-4339-98b6-555437153f57\n"
     ]
    }
   ],
   "source": [
    "!cat ~/.ssh/id_rsa.pub"
   ]
  },
  {
   "cell_type": "code",
   "execution_count": 23,
   "metadata": {
    "cellId": "xmu4j8103gkhxsdi83nbyi"
   },
   "outputs": [
    {
     "name": "stdout",
     "output_type": "stream",
     "text": [
      "origin\tgit@github.com:sergey-ryzhikov/test.git (fetch)\n",
      "origin\tgit@github.com:sergey-ryzhikov/test.git (push)\n"
     ]
    }
   ],
   "source": [
    "!git remote -v"
   ]
  },
  {
   "cell_type": "code",
   "execution_count": 25,
   "metadata": {
    "cellId": "i55jmmp5fi260pvhz5eja"
   },
   "outputs": [
    {
     "name": "stderr",
     "output_type": "stream",
     "text": [
      "# github.com:22 SSH-2.0-babeld-f06bbde2\n"
     ]
    }
   ],
   "source": [
    "!ssh-keyscan -t rsa github.com >> ~/.ssh/known_hosts"
   ]
  },
  {
   "cell_type": "code",
   "execution_count": 33,
   "metadata": {
    "cellId": "esm76pmvji5ke42skstm6i"
   },
   "outputs": [
    {
     "name": "stdout",
     "output_type": "stream",
     "text": [
      "On branch master\n",
      "\n",
      "No commits yet\n",
      "\n",
      "Changes to be committed:\n",
      "  (use \"git rm --cached <file>...\" to unstage)\n",
      "\n",
      "\tnew file:   .ipynb_checkpoints/service-checkpoint.ipynb\n",
      "\tnew file:   environment_en.ipynb\n",
      "\tnew file:   service.ipynb\n",
      "\n"
     ]
    }
   ],
   "source": [
    "!git commit -a -m \"\""
   ]
  }
 ],
 "metadata": {
  "language_info": {
   "codemirror_mode": {
    "name": "ipython",
    "version": 3
   },
   "file_extension": ".py",
   "mimetype": "text/x-python",
   "name": "python",
   "nbconvert_exporter": "python",
   "pygments_lexer": "ipython3",
   "version": "3.7.7"
  },
  "notebookId": "36b9ab3d-c332-4072-a7ff-845e824158f5",
  "notebookPath": "service.ipynb"
 },
 "nbformat": 4,
 "nbformat_minor": 4
}
