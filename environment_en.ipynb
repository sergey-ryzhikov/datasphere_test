{
  "nbformat" : 4,
  "nbformat_minor" : 4,
  "metadata" : {
    "notebookPath" : "environment_en.ipynb",
    "language_info" : {
      "codemirror_mode" : {
        "name" : "ipython",
        "version" : 3
      },
      "file_extension" : ".py",
      "mimetype" : "text/x-python",
      "name" : "python",
      "nbconvert_exporter" : "python",
      "pygments_lexer" : "ipython3",
      "version" : "3.7.7"
    },
    "notebookId" : "e58973de-b374-4752-84b8-401eec9fe187",
    "kernelspec" : {
      "name" : "python3",
      "description" : "IPython kernel implementation for DataSphere",
      "spec" : {
        "language" : "python",
        "display_name" : "DataSphere Kernel",
        "codemirror_mode" : "python",
        "argv" : [ "/bin/true" ],
        "env" : { },
        "help_links" : [ ],
        "metadata" : {
          "app" : "YANDEX_DATASPHERE"
        }
      },
      "resources" : { },
      "display_name" : "DataSphere Kernel"
    },
    "ydsNotebookPath" : "environment_en.ipynb"
  },
  "cells" : [ {
    "cell_type" : "markdown",
    "source" : [ "<a id='section-id0'></a>\n", "# Setting up a working environment in DataSphere\n", "\n", "1. [Installing libraries and changing installed library versions](#section-id1).\n", "2. [Custom images](#section-id2).\n", "3. [Vault](#section-id3).\n", "4. [More about DataSphere](#section-id4)." ],
    "metadata" : {
      "cellId" : "tfcoltraodte73fty0hon"
    }
  }, {
    "cell_type" : "markdown",
    "source" : [ "<a id='section-id1'></a>\n", "## 1. Installing libraries and changing installed library versions\n", "\n", "DataSphere is a ready-to-use development environment. The VM comes pre-installed with the JupyterLab development environment and packages for data analysis and ML (such as TensorFlow, Keras, NumPy, and others), which you can start using immediately. A complete list of pre-installed packages is available in the [documentation](https://cloud.yandex.com/en/docs/datasphere/concepts/preinstalled-packages) and can be verified using the `%pip list` command.\n" ],
    "metadata" : {
      "cellId" : "mju4lypnejm24sy5yl62n6"
    }
  }, {
    "cell_type" : "code",
    "source" : [ "%pip list" ],
    "metadata" : {
      "cellId" : "gu0npn6vftb6px54ftsipu"
    },
    "outputs" : [ ],
    "execution_count" : null
  }, {
    "cell_type" : "markdown",
    "source" : [ "If you are missing a package, you can install it directly from your notebook using the `%pip` package manager. DataSphere offers standard `%pip` command options. You can check the library version installed and roll it back to an earlier version or update it to a later or the most recent version." ],
    "metadata" : {
      "cellId" : "w5zztdfjkmr085g8s1aj969"
    }
  }, {
    "cell_type" : "code",
    "source" : [ "#How to install latest version\n", "%pip install fasttext" ],
    "metadata" : {
      "cellId" : "o6pcageicjk2hv1eoiv4kz"
    },
    "outputs" : [ ],
    "execution_count" : null
  }, {
    "cell_type" : "code",
    "source" : [ "#How to install exact version\n", "%pip install fasttext==0.9.1 " ],
    "metadata" : {
      "cellId" : "ccldu6ozioltit3yg4h93f"
    },
    "outputs" : [ ],
    "execution_count" : null
  }, {
    "cell_type" : "code",
    "source" : [ "#How to update installed software\n", "%pip install --upgrade fasttext" ],
    "metadata" : {
      "cellId" : "avkbv9eze3vjlxd80lc2te"
    },
    "outputs" : [ ],
    "execution_count" : null
  }, {
    "cell_type" : "markdown",
    "source" : [ "<a id='section-id2'></a>\n", "## 2. Custom images\n", "\n", "You can change the versions of one or more pre-installed libraries, add your own library, and build an entire custom image from the libraries and versions you need, both public domain and proprietary.\n", "To build a custom image, open the **Docker Images** tab on the left and click the **+** icon.\n", "\n", "In the resulting notebook, complete the following fields:\n", "\n", "- **Build path**.\n", "- The image name in **Repository**.\n", "- The image to build in **Tag**.\n", "- In the **Dockerfile template** menu, select the Python version that will be installed on your image.\n", "\n", "Click **Build** to build the image.\n", "\n", "![](https://storage.yandexcloud.net/onboarding-notebooks/screenshots/create-custom-docker-image.png)" ],
    "metadata" : {
      "cellId" : "5vfh5wfb18n8iuagi1xoba"
    }
  }, {
    "cell_type" : "markdown",
    "source" : [ "You can also open a notebook to build a custom image by selecting **File** ⟶ **Open Docker Notebook** on the main menu.\n", "\n", "![](https://storage.yandexcloud.net/onboarding-notebooks/screenshots/open-docker-notebook.png)" ],
    "metadata" : {
      "cellId" : "ynrftbagyyec7wkptja8ws"
    }
  }, {
    "cell_type" : "markdown",
    "source" : [ "You can set a successfully built image as the default docker image in a project by selecting **Set image to project** in the lower right-hand corner of the screen.\n", "You can always revert back to the original system docker image by clicking **Reset docker image in project** on the docker image panel.\n", "\n", "![](https://storage.yandexcloud.net/onboarding-notebooks/screenshots/set-image-to-project.png) ![](https://storage.yandexcloud.net/onboarding-notebooks/screenshots/reset-docker-image.png)" ],
    "metadata" : {
      "cellId" : "njdp2icp3poxuxjrcg3z"
    }
  }, {
    "cell_type" : "markdown",
    "source" : [ "To build an image with a new version of the CUDA driver, insert an example after the comment **# Write your instructions here**. This image may be required to run tensorflow > 2.4.x using a GPU.\n", "\n", "```\n", "FROM ubuntu:18.04\n", "ENV DEBIAN_FRONTEND noninteractive\n", "RUN useradd -ms /bin/bash --uid 1000 jupyter\\\n", " && apt update\\\n", " && apt install -y python3.8-dev python3.8-distutils gnupg wget software-properties-common curl\\\n", " && ln -s /usr/bin/python3.8 /usr/local/bin/python3\\\n", " && curl https://bootstrap.pypa.io/get-pip.py | python3\n", "ENV LD_LIBRARY_PATH /usr/local/cuda-11.2/lib64:/usr/local/nvidia/lib:/usr/local/nvidia/lib64:/usr/local/cuda/lib64:/usr/local/cuda/extras/CUPTI/lib64\n", "RUN apt-get update &&\\\n", " apt-get install -y -q xserver-xorg-core wget &&\\\n", " wget https://developer.download.nvidia.com/compute/cuda/repos/ubuntu1804/x86_64/cuda-ubuntu1804.pin -O /etc/apt/preferences.d/cuda-repository-pin-600 &&\\\n", " apt-key adv --fetch-keys https://developer.download.nvidia.com/compute/cuda/repos/ubuntu1804/x86_64/7fa2af80.pub &&\\\n", " add-apt-repository \"deb https://developer.download.nvidia.com/compute/cuda/repos/ubuntu1804/x86_64/ /\" &&\\\n", " apt-get update &&\\\n", " apt-get -y install cuda libcudnn8 nvidia-cuda-toolkit &&\\\n", " exit\n", "RUN pip install tensorflow-gpu==2.6\n", "```" ],
    "metadata" : {
      "cellId" : "qvj6zgmpedr904ej5cd119"
    }
  }, {
    "cell_type" : "markdown",
    "source" : [ "<a id='section-id3'></a>\n", "## 3. Vault\n", "\n", "Now you can create and store secrets in a non-public form calling them from the notebook code as needed. You can define at what level these secrets are available: to all project, folder, or cloud users.\n", "\n", "**Important:** in order for new secrets to become available in the current session, you need to restart the kernel (**Kernel ⟶ Restart kernel**).\n", "\n", "![](https://storage.yandexcloud.net/onboarding-notebooks/screenshots/secrets.png) ![](https://storage.yandexcloud.net/onboarding-notebooks/screenshots/create-secret.png)" ],
    "metadata" : {
      "cellId" : "hrf5qp3fx27o7x06l85lz"
    }
  }, {
    "cell_type" : "code",
    "source" : [ "#You can use secret like this\n", "import os\n", "os.environ['secret']" ],
    "metadata" : {
      "cellId" : "c24d0r126lhnfa4skjxld"
    },
    "outputs" : [ ],
    "execution_count" : null
  }, {
    "cell_type" : "code",
    "source" : [ "#!:bash\n", "#Or like this\n", "echo $secret" ],
    "metadata" : {
      "collapsed" : false,
      "pycharm" : {
        "name" : "#%%\n"
      }
    },
    "outputs" : [ ],
    "execution_count" : null
  }, {
    "cell_type" : "markdown",
    "source" : [ "<a id='section-id4'></a>\n", "\n", "## 4. Learning more about DataSphere \n", "We have [documentation](https://cloud.yandex.com/en/docs/datasphere/). \n", "\n", "**Other useful notebooks**  \n", "- [Welcome to DataSphere](welcome_en.ipynb#section-id0)\n", "- [Working with data and code, variables, and state versioning in Yandex DataSphere, and sharing output](dataflow_en.ipynb#section-id0)\n", "- [Model training and DataSphere features](modeltraining_en.ipynb#section-id0)\n" ],
    "metadata" : {
      "cellId" : "aet9zbef7u9kbf48xn4d7c"
    }
  }, {
    "cell_type" : "code",
    "source" : [ ],
    "metadata" : {
      "cellId" : "a869m1fxq4vhq0nweng6r"
    },
    "outputs" : [ ],
    "execution_count" : null
  } ]
}