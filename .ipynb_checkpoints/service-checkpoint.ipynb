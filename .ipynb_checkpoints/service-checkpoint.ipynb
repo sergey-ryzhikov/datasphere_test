{
 "cells": [
  {
   "cell_type": "code",
   "execution_count": 1,
   "metadata": {
    "cellId": "d7s1uls7zdcbapiyww20bj"
   },
   "outputs": [],
   "source": [
    "#!c1.4\n",
    "import numpy as np\n",
    "import matplotlib.pyplot as plt"
   ]
  },
  {
   "cell_type": "code",
   "execution_count": null,
   "metadata": {
    "cellId": "bjklx9m8ww8azljitrjcan",
    "execution_id": "fc96eed8-ac43-4e99-ba71-81ec20a4f9b3"
   },
   "outputs": [],
   "source": [
    "class Model():\n",
    "    def predict(self, items):\n",
    "        return [{\"category\":\"категория\", \"sentiment\": \"+\"}] * len(items)\n",
    "    def noop(self):\n",
    "        pass"
   ]
  },
  {
   "cell_type": "code",
   "execution_count": 39,
   "metadata": {
    "cellId": "f6kj00kq9molpuu0w5jwd"
   },
   "outputs": [],
   "source": [
    "model = Model()"
   ]
  },
  {
   "cell_type": "code",
   "execution_count": 30,
   "metadata": {
    "cellId": "db5iqbtrdzar9xjtx6pipl"
   },
   "outputs": [],
   "source": [
    "# должны быть в отдельной ячейке, чтобы не быть перезаписанными при обращении к ячейке\n",
    "input_values = ['a','b', 'c']"
   ]
  },
  {
   "cell_type": "code",
   "execution_count": 31,
   "metadata": {
    "cellId": "sq0bzsk7ohg03t4o7ltg9"
   },
   "outputs": [],
   "source": [
    "#!c1.4\n",
    "# ячейка, которая выполняется как сервис\n",
    "# Чтобы создать контрольную точку, нажмите Ctrl-K\n",
    "#\n",
    "a = []\n",
    "predictions = model.predict(input_values)\n",
    "#labels = predictions.argmax(axis=1).tolist()\n",
    "labels = predictions  # DELME"
   ]
  },
  {
   "cell_type": "code",
   "execution_count": 22,
   "metadata": {
    "cellId": "lyxjdtj6fljtaq7t4nj2i"
   },
   "outputs": [
    {
     "data": {
      "text/plain": [
       "[{'category': 'категория', 'sentiment': '+'},\n",
       " {'category': 'категория', 'sentiment': '+'},\n",
       " {'category': 'категория', 'sentiment': '+'}]"
      ]
     },
     "execution_count": 22,
     "metadata": {},
     "output_type": "execute_result"
    }
   ],
   "source": [
    "predictions"
   ]
  },
  {
   "cell_type": "markdown",
   "metadata": {
    "cellId": "8hldnepspgecbi44e6x8tl"
   },
   "source": [
    "Запрашиваем ответ у ячейки-сервиса:"
   ]
  },
  {
   "cell_type": "code",
   "execution_count": 33,
   "metadata": {
    "cellId": "jvzcbu898hc53v55fawe"
   },
   "outputs": [
    {
     "name": "stdout",
     "output_type": "stream",
     "text": [
      "200 OK\n",
      "{\n",
      " \"output\": {\n",
      "  \"labels\": [\n",
      "   42,\n",
      "   42,\n",
      "   42\n",
      "  ]\n",
      " }\n",
      "}\n",
      "\n"
     ]
    }
   ],
   "source": [
    "#!c1.4\n",
    "import json\n",
    "import os\n",
    "import requests\n",
    "\n",
    "NODE_ID = 'bt1vv8o57lp469vqupgg'\n",
    "FOLDER_ID = 'b1g03cf0d9b8uiifgvgo'\n",
    "API_KEY = os.environ['REQUESTER_API_KEY']\n",
    "\n",
    "resp = requests.post(\n",
    "    f\"https://datasphere.api.cloud.yandex.net/datasphere/v1/nodes/{NODE_ID}:execute\",\n",
    "    data = json.dumps({\n",
    "        'node_id': NODE_ID,\n",
    "        'folder_id': FOLDER_ID,\n",
    "        'input': {\n",
    "            'input_values': [ 'a', 'b', 'c']\n",
    "        }\n",
    "    }),\n",
    "    headers = { \n",
    "         'Authorization': f\"Api-Key {API_KEY}\",\n",
    "    }\n",
    ")\n",
    "\n",
    "# check response\n",
    "print(resp.status_code, resp.reason)\n",
    "print(resp.text)"
   ]
  }
 ],
 "metadata": {
  "language_info": {
   "codemirror_mode": {
    "name": "ipython",
    "version": 3
   },
   "file_extension": ".py",
   "mimetype": "text/x-python",
   "name": "python",
   "nbconvert_exporter": "python",
   "pygments_lexer": "ipython3",
   "version": "3.7.7"
  },
  "notebookId": "36b9ab3d-c332-4072-a7ff-845e824158f5",
  "notebookPath": "service.ipynb"
 },
 "nbformat": 4,
 "nbformat_minor": 4
}
